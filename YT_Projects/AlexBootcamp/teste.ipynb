{
 "cells": [
  {
   "cell_type": "code",
   "execution_count": 1,
   "metadata": {},
   "outputs": [
    {
     "name": "stdout",
     "output_type": "stream",
     "text": [
      "Hello World!\n"
     ]
    }
   ],
   "source": [
    "print('Hello World!')"
   ]
  },
  {
   "attachments": {},
   "cell_type": "markdown",
   "metadata": {},
   "source": [
    "<b>For Loops"
   ]
  },
  {
   "attachments": {},
   "cell_type": "markdown",
   "metadata": {},
   "source": [
    "<i>Lists"
   ]
  },
  {
   "cell_type": "code",
   "execution_count": 2,
   "metadata": {},
   "outputs": [
    {
     "data": {
      "text/plain": [
       "list"
      ]
     },
     "execution_count": 2,
     "metadata": {},
     "output_type": "execute_result"
    }
   ],
   "source": [
    "integers = [1,2,3,4,5]\n",
    "type(integers)"
   ]
  },
  {
   "cell_type": "code",
   "execution_count": 3,
   "metadata": {},
   "outputs": [
    {
     "name": "stdout",
     "output_type": "stream",
     "text": [
      "1\n",
      "2\n",
      "3\n",
      "4\n",
      "5\n"
     ]
    }
   ],
   "source": [
    "for i in integers:\n",
    "    print(i)"
   ]
  },
  {
   "cell_type": "code",
   "execution_count": 4,
   "metadata": {},
   "outputs": [
    {
     "data": {
      "text/plain": [
       "5"
      ]
     },
     "execution_count": 4,
     "metadata": {},
     "output_type": "execute_result"
    }
   ],
   "source": [
    "len(integers)"
   ]
  },
  {
   "cell_type": "code",
   "execution_count": 5,
   "metadata": {},
   "outputs": [
    {
     "name": "stdout",
     "output_type": "stream",
     "text": [
      "1\n",
      "2\n",
      "3\n",
      "4\n",
      "5\n"
     ]
    }
   ],
   "source": [
    "for i in range(len(integers)):\n",
    "    print(integers[i])"
   ]
  },
  {
   "attachments": {},
   "cell_type": "markdown",
   "metadata": {},
   "source": [
    "<i>Dictionaries"
   ]
  },
  {
   "cell_type": "code",
   "execution_count": 6,
   "metadata": {},
   "outputs": [
    {
     "data": {
      "text/plain": [
       "dict"
      ]
     },
     "execution_count": 6,
     "metadata": {},
     "output_type": "execute_result"
    }
   ],
   "source": [
    "dict = {'key': 'value'}\n",
    "type(dict)"
   ]
  },
  {
   "cell_type": "code",
   "execution_count": 8,
   "metadata": {},
   "outputs": [
    {
     "name": "stdout",
     "output_type": "stream",
     "text": [
      "name\n",
      "ice-cream\n",
      "color\n"
     ]
    }
   ],
   "source": [
    "favorits = {'name': 'jessy', 'ice-cream': 'chocolate', 'color': 'red'}\n",
    "for favorit in favorits:\n",
    "    print(favorit)"
   ]
  },
  {
   "cell_type": "code",
   "execution_count": 9,
   "metadata": {},
   "outputs": [
    {
     "name": "stdout",
     "output_type": "stream",
     "text": [
      "jessy\n",
      "chocolate\n",
      "red\n"
     ]
    }
   ],
   "source": [
    "favorits = {'name': 'jessy', 'ice-cream': 'chocolate', 'color': 'red'}\n",
    "for favorit in favorits.values():\n",
    "    print(favorit)"
   ]
  },
  {
   "cell_type": "code",
   "execution_count": 15,
   "metadata": {},
   "outputs": [
    {
     "name": "stdout",
     "output_type": "stream",
     "text": [
      "My key is: name and my value is: jessy\n",
      "My key is: ice-cream and my value is: chocolate\n",
      "My key is: color and my value is: red\n"
     ]
    }
   ],
   "source": [
    "favorits = {'name': 'jessy', 'ice-cream': 'chocolate', 'color': 'red'}\n",
    "for key, value in favorits.items():\n",
    "    print(f\"My key is: {key} and my value is: {value}\")"
   ]
  },
  {
   "attachments": {},
   "cell_type": "markdown",
   "metadata": {},
   "source": [
    "<b>Nested Loops for Lists of Dictionaries"
   ]
  },
  {
   "cell_type": "code",
   "execution_count": 3,
   "metadata": {},
   "outputs": [],
   "source": [
    "preferences = [{'name': 'ana', 'ice-cream': 'chocolate', 'color': 'red'},\n",
    "               {'name': 'bill', 'ice-cream': 'blue-snow', 'color': 'blue'},\n",
    "               {'name': 'cris', 'ice-cream': 'mint', 'color': 'green'},\n",
    "               {'name': 'dan', 'ice-cream': 'vanilla', 'color': 'yellow'}]\n"
   ]
  },
  {
   "cell_type": "code",
   "execution_count": 3,
   "metadata": {},
   "outputs": [
    {
     "name": "stdout",
     "output_type": "stream",
     "text": [
      "Preference: 0, Key: name, Value:ana\n",
      "Preference: 0, Key: ice-cream, Value:chocolate\n",
      "Preference: 0, Key: color, Value:red\n",
      "Preference: 1, Key: name, Value:bill\n",
      "Preference: 1, Key: ice-cream, Value:blue-snow\n",
      "Preference: 1, Key: color, Value:blue\n",
      "Preference: 2, Key: name, Value:cris\n",
      "Preference: 2, Key: ice-cream, Value:mint\n",
      "Preference: 2, Key: color, Value:green\n",
      "Preference: 3, Key: name, Value:dan\n",
      "Preference: 3, Key: ice-cream, Value:vanilla\n",
      "Preference: 3, Key: color, Value:yellow\n"
     ]
    }
   ],
   "source": [
    "for i in range(len(preferences)):\n",
    "    for key, value in preferences[i].items():\n",
    "        print(f'Preference: {i}, Key: {key}, Value:{value}')"
   ]
  },
  {
   "cell_type": "code",
   "execution_count": 1,
   "metadata": {},
   "outputs": [
    {
     "name": "stdout",
     "output_type": "stream",
     "text": [
      "{}\n"
     ]
    }
   ],
   "source": [
    "teste = {}\n",
    "print(teste)"
   ]
  },
  {
   "cell_type": "code",
   "execution_count": 4,
   "metadata": {},
   "outputs": [
    {
     "name": "stdout",
     "output_type": "stream",
     "text": [
      "Preference: 0\n",
      "Key: name, Value:ana\n",
      "Key: ice-cream, Value:chocolate\n",
      "Key: color, Value:red\n",
      "Preference: 1\n",
      "Key: name, Value:bill\n",
      "Key: ice-cream, Value:blue-snow\n",
      "Key: color, Value:blue\n",
      "Preference: 2\n",
      "Key: name, Value:cris\n",
      "Key: ice-cream, Value:mint\n",
      "Key: color, Value:green\n",
      "Preference: 3\n",
      "Key: name, Value:dan\n",
      "Key: ice-cream, Value:vanilla\n",
      "Key: color, Value:yellow\n"
     ]
    }
   ],
   "source": [
    "for i in range(len(preferences)):\n",
    "    print(f\"Preference: {i}\")\n",
    "    for key, value in preferences[i].items():\n",
    "        print(f'Key: {key}, Value:{value}')"
   ]
  },
  {
   "cell_type": "code",
   "execution_count": null,
   "metadata": {},
   "outputs": [],
   "source": []
  }
 ],
 "metadata": {
  "kernelspec": {
   "display_name": "Python 3",
   "language": "python",
   "name": "python3"
  },
  "language_info": {
   "codemirror_mode": {
    "name": "ipython",
    "version": 3
   },
   "file_extension": ".py",
   "mimetype": "text/x-python",
   "name": "python",
   "nbconvert_exporter": "python",
   "pygments_lexer": "ipython3",
   "version": "3.9.13"
  },
  "orig_nbformat": 4
 },
 "nbformat": 4,
 "nbformat_minor": 2
}
